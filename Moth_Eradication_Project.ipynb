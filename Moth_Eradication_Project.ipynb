{
  "nbformat": 4,
  "nbformat_minor": 0,
  "metadata": {
    "colab": {
      "provenance": [],
      "authorship_tag": "ABX9TyM2l2WyuhNp4Dc17AEatzoK",
      "include_colab_link": true
    },
    "kernelspec": {
      "name": "python3",
      "display_name": "Python 3"
    },
    "language_info": {
      "name": "python"
    }
  },
  "cells": [
    {
      "cell_type": "markdown",
      "metadata": {
        "id": "view-in-github",
        "colab_type": "text"
      },
      "source": [
        "<a href=\"https://colab.research.google.com/github/TumugantiBhoomika/MothEradication/blob/main/Moth_Eradication_Project.ipynb\" target=\"_parent\"><img src=\"https://colab.research.google.com/assets/colab-badge.svg\" alt=\"Open In Colab\"/></a>"
      ]
    },
    {
      "cell_type": "code",
      "execution_count": null,
      "metadata": {
        "id": "lLpIbbVMxuF5"
      },
      "outputs": [],
      "source": [
        "import math\n",
        "import matplotlib.pyplot as plt"
      ]
    },
    {
      "cell_type": "code",
      "source": [
        "class Point:\n",
        "    def __init__(self, x, y):\n",
        "        self.x = x\n",
        "        self.y = y"
      ],
      "metadata": {
        "id": "MZ3kGibVyCpM"
      },
      "execution_count": null,
      "outputs": []
    },
    {
      "cell_type": "code",
      "source": [
        "def Left_index(points) -> int :\n",
        "    minn = 0\n",
        "    for i in range(1,len(points)):\n",
        "        if points[i].x < points[minn].x:\n",
        "            minn = i\n",
        "        elif points[i].x == points[minn].x:\n",
        "            if points[i].y > points[minn].y:\n",
        "                minn = i\n",
        "    return minn"
      ],
      "metadata": {
        "id": "ra20RNB5yHpB"
      },
      "execution_count": null,
      "outputs": []
    },
    {
      "cell_type": "code",
      "source": [
        "\n",
        "def orientation(p, q, r) -> int :\n",
        "    val = (q.y - p.y) * (r.x - q.x) - (q.x - p.x) * (r.y - q.y)\n",
        "    if val == 0:\n",
        "        return 0  # p, q and r are colinear\n",
        "    elif val > 0:\n",
        "        return 1  # Clockwise\n",
        "    else:\n",
        "        return 2  # Counterclockwise\n"
      ],
      "metadata": {
        "id": "sd2r66AxyQUl"
      },
      "execution_count": null,
      "outputs": []
    },
    {
      "cell_type": "code",
      "source": [
        "def convexHull(points, n) -> [int] :\n",
        "    if n < 3:\n",
        "        return\n",
        "    l = Left_index(points)\n",
        "    hull = []\n",
        "    lst = []\n",
        "    p = l\n",
        "    q = 0\n",
        "    while(True):\n",
        "        hull.append(p)\n",
        "        q = (p + 1) % n\n",
        "        for i in range(n):\n",
        "            if(orientation(points[p],\n",
        "                           points[i], points[q]) == 2):\n",
        "                q = i\n",
        "        p = q\n",
        "        if(p == l):\n",
        "            break\n",
        "    l = []\n",
        "    ls = []\n",
        "    for each in hull:\n",
        "        l.append([points[each].x,points[each].y])\n",
        "    ls.append(l[0])\n",
        "    l.extend(ls)\n",
        "    return l[::-1]\n"
      ],
      "metadata": {
        "id": "McXvQFFsyXhC"
      },
      "execution_count": null,
      "outputs": []
    },
    {
      "cell_type": "code",
      "source": [
        "def perimeter_length(list_points) -> int :\n",
        "    perimeter = 0\n",
        "    for i in range(0,len(list_points)) :\n",
        "        p1 = list_points[i]\n",
        "        if i == len(list_points) - 1 :\n",
        "            break\n",
        "        else :\n",
        "            p2 = list_points[i+1]\n",
        "        perimeter += math.sqrt(((p2[0]-p1[0])**2)+((p2[1]-p1[1])**2))\n",
        "    return '{:.2f}'.format(perimeter,2)"
      ],
      "metadata": {
        "id": "h9XjwYx2ybqH"
      },
      "execution_count": null,
      "outputs": []
    },
    {
      "cell_type": "code",
      "source": [
        "def Take_input(no) :\n",
        "    point_list = []\n",
        "    x_coordinates = []\n",
        "    y_coordinates = []\n",
        "    for i in range(no):\n",
        "        x, y = [float(i) for i in input().split()]\n",
        "        y_coordinates.append(y)\n",
        "        x_coordinates.append(x)\n",
        "        point_list.append(Point(x,y))\n",
        "\n",
        "    perimeter_list = convexHull((point_list), len(point_list))\n",
        "    return perimeter_list ,x_coordinates,y_coordinates"
      ],
      "metadata": {
        "id": "sAILVdK3ygZz"
      },
      "execution_count": null,
      "outputs": []
    },
    {
      "cell_type": "code",
      "source": [
        "def Plotting(x,y,graph_list) :\n",
        "    plt.scatter(x,y,color = 'blue')\n",
        "    plt.xlabel(\"X - Axis\")\n",
        "    plt.ylabel(\"Y - Axis\")\n",
        "    x_data = []\n",
        "    y_data = []\n",
        "    flat_list = [item for sublist in graph_list for item in sublist]\n",
        "    x_data = (flat_list[::2])\n",
        "    y_data = (flat_list[1::2])\n",
        "    plt.plot(x_data,y_data,color='orange')\n",
        "    plt.legend([\"Boundary\", \"Location\"], loc =\"lower right\")\n",
        "    plt.show()"
      ],
      "metadata": {
        "id": "b9xfxFJuynwR"
      },
      "execution_count": null,
      "outputs": []
    },
    {
      "cell_type": "code",
      "source": [
        "def Printing_output(final_list) -> str :\n",
        "    st = \"\"\n",
        "    # count = 1\n",
        "    lt =[]\n",
        "    for i in (tuple(ele) for ele in tuple(final_list)) :\n",
        "        lt.append(i)\n",
        "    tuple_form = tuple(lt)\n",
        "    s = [str(i) for i in tuple_form]\n",
        "    print(\"-\".join(s))\n",
        "\n",
        "n=1\n",
        "count = 1\n",
        "while(n!=0) :\n",
        "  for count in range(1,10000):\n",
        "    n = int(input())\n",
        "    if (n==0):\n",
        "      break\n",
        "    out,x_points,y_points = Take_input(n)\n",
        "    print()\n",
        "    print(\"Region #\",count,\":\")\n",
        "    Printing_output(out)\n",
        "    print (\"Perimeter Length = \",perimeter_length(out))\n",
        "    Plotting(x_points,y_points,out)\n"
      ],
      "metadata": {
        "colab": {
          "base_uri": "https://localhost:8080/",
          "height": 605
        },
        "id": "0arje78Hyzmw",
        "outputId": "3b53f046-5b1f-4281-9d56-e1d80b9e22d3"
      },
      "execution_count": null,
      "outputs": [
        {
          "output_type": "stream",
          "name": "stdout",
          "text": [
            "3\n",
            "0 0\n",
            "1 0\n",
            "0 1\n",
            "\n",
            "Region # 1 :\n",
            "(0.0, 1.0)-(1.0, 0.0)-(0.0, 0.0)-(0.0, 1.0)\n",
            "Perimeter Length =  3.41\n"
          ]
        },
        {
          "output_type": "display_data",
          "data": {
            "text/plain": [
              "<Figure size 640x480 with 1 Axes>"
            ],
            "image/png": "[encoded data removed]"
          },
          "metadata": {}
        },
        {
          "name": "stdout",
          "output_type": "stream",
          "text": [
            "0\n"
          ]
        }
      ]
    }
  ]
}